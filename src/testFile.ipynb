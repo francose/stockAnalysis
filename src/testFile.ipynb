{
 "cells": [
  {
   "cell_type": "code",
   "execution_count": 3,
   "metadata": {
    "scrolled": true
   },
   "outputs": [
    {
     "name": "stdout",
     "output_type": "stream",
     "text": [
      "Successfully created the directory MSFT \n",
      "Successfully created the directory XOM \n",
      "Successfully created the directory JNJ \n",
      "Successfully created the directory GE \n",
      "Successfully created the directory FB \n",
      "Successfully created the directory AMZN \n",
      "Successfully created the directory BRK-B \n",
      "Successfully created the directory T \n",
      "Successfully created the directory WFC \n",
      "process 1\n",
      "process 2\n",
      "process 3\n",
      "process 4\n",
      "process 5\n",
      "process 6\n",
      "process 7\n",
      "process 8\n",
      "process 9\n"
     ]
    }
   ],
   "source": [
    "'''\n",
    "pseudo code testing...\n",
    "'''\n",
    "import os\n",
    "import requests\n",
    "from bs4 import BeautifulSoup\n",
    "from multiprocessing import Process\n",
    "\n",
    "\n",
    "\n",
    "ENDPOINTS = [\"https://finance.yahoo.com/quote/\",\"https://www.investopedia.com/articles/investing/053116/10-largest-holdings-sp-500-aaplamznfb.asp\"]     \n",
    "\n",
    "\n",
    "def createDirectory(path):\n",
    "    try:\n",
    "        os.mkdir(path)\n",
    "    except OSError:\n",
    "        print(\"Creation of the directory %s failed\" % path)\n",
    "    else:\n",
    "        print(\"Successfully created the directory %s \" % path)\n",
    "\n",
    "    \n",
    "\n",
    "#gets the top 10 company thickers      \n",
    "def getCompanyName():\n",
    "    result = requests.get(ENDPOINTS[1])\n",
    "    rawHtml = BeautifulSoup(result.text)\n",
    "    rawThickers = rawHtml.select('tr > td > p > a')\n",
    "    thickers = []\n",
    "    for i in range(0,len(rawThickers)): \n",
    "        thickers.append(rawThickers[i].text)  \n",
    "        createDirectory(rawThickers[i].text)\n",
    "    return(thickers) \n",
    "\n",
    "\n",
    "#creates new urllist        \n",
    "def appendNames(urlList=[]):\n",
    "    companyNames = getCompanyName()\n",
    "    LIST = [urlList.append( ENDPOINTS[0] + i +\"/history?p=\"+ i ) for i in companyNames]\n",
    "    return(urlList)\n",
    "\n",
    "    \n",
    "def getContent(domain):\n",
    "    data = requests.get(domain)\n",
    "    return(data.status_code)      \n",
    "\n",
    "\n",
    "if __name__=='__main__':\n",
    "    content_list = appendNames()\n",
    "    x = 0\n",
    "    for i in content_list:\n",
    "        x += 1\n",
    "        print('process', x)\n",
    "        p = Process(target=getContent, args=(i, ))\n",
    "        p.start()\n",
    "        p.join()\n",
    "     \n",
    "  \n",
    "   \n",
    "    \n",
    "    \n",
    "  \n",
    "   \n",
    "    \n",
    "    \n"
   ]
  },
  {
   "cell_type": "code",
   "execution_count": null,
   "metadata": {},
   "outputs": [],
   "source": []
  }
 ],
 "metadata": {
  "kernelspec": {
   "display_name": "Python 3",
   "language": "python",
   "name": "python3"
  },
  "language_info": {
   "codemirror_mode": {
    "name": "ipython",
    "version": 3
   },
   "file_extension": ".py",
   "mimetype": "text/x-python",
   "name": "python",
   "nbconvert_exporter": "python",
   "pygments_lexer": "ipython3",
   "version": "3.6.8"
  }
 },
 "nbformat": 4,
 "nbformat_minor": 2
}
