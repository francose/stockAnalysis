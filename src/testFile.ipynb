{
 "cells": [
  {
   "cell_type": "code",
   "execution_count": 44,
   "metadata": {},
   "outputs": [
    {
     "name": "stdout",
     "output_type": "stream",
     "text": [
      "['MSFT', 'XOM', 'JNJ', 'GE', 'FB', 'AMZN', 'BRK-B', 'T', 'WFC']\n"
     ]
    }
   ],
   "source": [
    "#This file is only for testing... \n",
    "\n",
    "import requests\n",
    "from bs4 import BeautifulSoup\n",
    "\n",
    "\n",
    "\n",
    "\n",
    "\n",
    "#gets the top 10 company thickers \n",
    "\n",
    "def extractCompany():\n",
    "    url = 'https://www.investopedia.com/articles/investing/053116/10-largest-holdings-sp-500-aaplamznfb.asp'\n",
    "    result = requests.get(url)\n",
    "    rawHtml = BeautifulSoup(result.text)\n",
    "    rawThickers = rawHtml.select('tr > td > p > a')\n",
    "    thickers = []\n",
    "    for i in range(0,len(rawThickers)): \n",
    "        thickers.append(rawThickers[i].text)\n",
    "    return(thickers)\n",
    "\n",
    "\n",
    "    \n",
    "\n",
    "def company_Thicker():\n",
    "    thicker = extractCompany()\n",
    "\n",
    "    return (searchRequest = 'https://finance.yahoo.com/quote/'+ thicker[i] +'/history?p=' + thicker[i])\n",
    "    \n",
    "company_Thicker()\n",
    "\n"
   ]
  },
  {
   "cell_type": "code",
   "execution_count": null,
   "metadata": {},
   "outputs": [],
   "source": []
  },
  {
   "cell_type": "code",
   "execution_count": null,
   "metadata": {},
   "outputs": [],
   "source": []
  }
 ],
 "metadata": {
  "kernelspec": {
   "display_name": "Python 3",
   "language": "python",
   "name": "python3"
  },
  "language_info": {
   "codemirror_mode": {
    "name": "ipython",
    "version": 3
   },
   "file_extension": ".py",
   "mimetype": "text/x-python",
   "name": "python",
   "nbconvert_exporter": "python",
   "pygments_lexer": "ipython3",
   "version": "3.7.0"
  }
 },
 "nbformat": 4,
 "nbformat_minor": 2
}
